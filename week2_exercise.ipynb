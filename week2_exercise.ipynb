{
 "cells": [
  {
   "cell_type": "markdown",
   "id": "d38d949b",
   "metadata": {},
   "source": [
    "# Exercise 3"
   ]
  },
  {
   "cell_type": "code",
   "execution_count": 5,
   "id": "d8960a44",
   "metadata": {},
   "outputs": [
    {
     "name": "stdout",
     "output_type": "stream",
     "text": [
      "my_arr= \t [0 1 2 3 4 5 6 7 8 9]\n",
      "my_arr= \t [ 0  1  2  3 25 25 25  7  8  9]\n",
      "arr_slice= \t [-1 25 25]\n",
      "my_arr= \t [ 0  1  2  3 25 25 25  7  8  9]\n"
     ]
    }
   ],
   "source": [
    "import numpy as np\n",
    "\n",
    "\n",
    "my_arr = np.arange(10)\n",
    "print(\"my_arr= \\t\", my_arr)\n",
    "\n",
    "# assign 25 to each value in the position 4-7\n",
    "my_arr[4:7] = 25\n",
    "print(\"my_arr= \\t\", my_arr)\n",
    "\n",
    "# create a copy of the my_arr[4:7]\n",
    "arr_slice = my_arr[4:7].copy()\n",
    "\n",
    "# Change the first element of arr_slice to -1\n",
    "arr_slice[0]= -1\n",
    "\n",
    "print(\"arr_slice= \\t\", arr_slice)\n",
    "print(\"my_arr= \\t\", my_arr)"
   ]
  },
  {
   "cell_type": "markdown",
   "id": "82e4483a",
   "metadata": {},
   "source": [
    "# Exercise 4"
   ]
  },
  {
   "cell_type": "code",
   "execution_count": 7,
   "id": "80d3889a",
   "metadata": {},
   "outputs": [
    {
     "data": {
      "image/png": "[encoded data removed]",
      "text/plain": [
       "<Figure size 500x500 with 1 Axes>"
      ]
     },
     "metadata": {},
     "output_type": "display_data"
    }
   ],
   "source": [
    "import matplotlib.pyplot as plt\n",
    "import matplotlib.patches as patches\n",
    "\n",
    "# set the canvas size to 5x5\n",
    "plt.rcParams[\"figure.figsize\"] = [5, 5]\n",
    "\n",
    "# create figure & subplot object \n",
    "fig = plt.figure()\n",
    "ax = fig.add_subplot(111)   # shorthand for 1 row, 1 column, subplot number 1\n",
    "\n",
    "# create 2 patch objects\n",
    "rect = patches.Rectangle((2, 2), 5, 5, color='black')\n",
    "circle = patches.Circle((4.5, 4.5), radius=0.7, color='white')\n",
    "\n",
    "# add the patches to subplot\n",
    "ax.add_patch(rect)\n",
    "ax.add_patch(circle)\n",
    "\n",
    "# set the plot axes limit to ensure equal aspect ratio\n",
    "plt.xlim([-10, 10])\n",
    "plt.ylim([-10, 10])\n",
    "plt.axis('equal')\n",
    "\n",
    "# remove the x and y-axis\n",
    "plt.xticks([]), plt.yticks([])\n",
    "\n",
    "# remove the border\n",
    "for spine in ax.spines.values():\n",
    "    spine.set_visible(False)\n",
    "    \n",
    "plt.show()"
   ]
  },
  {
   "cell_type": "code",
   "execution_count": null,
   "id": "8758e6cc",
   "metadata": {},
   "outputs": [],
   "source": []
  }
 ],
 "metadata": {
  "kernelspec": {
   "display_name": "Python 3 (ipykernel)",
   "language": "python",
   "name": "python3"
  },
  "language_info": {
   "codemirror_mode": {
    "name": "ipython",
    "version": 3
   },
   "file_extension": ".py",
   "mimetype": "text/x-python",
   "name": "python",
   "nbconvert_exporter": "python",
   "pygments_lexer": "ipython3",
   "version": "3.11.3"
  }
 },
 "nbformat": 4,
 "nbformat_minor": 5
}
