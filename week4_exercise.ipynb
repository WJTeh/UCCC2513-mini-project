{
 "cells": [
  {
   "cell_type": "markdown",
   "id": "4b1bce83",
   "metadata": {},
   "source": [
    "# Setup"
   ]
  },
  {
   "cell_type": "code",
   "execution_count": 1,
   "id": "6ee6922e",
   "metadata": {},
   "outputs": [],
   "source": [
    "import sys\n",
    "assert sys.version_info>=(3,7)\n",
    "\n",
    "import numpy as np\n",
    "import cv2 as cv\n",
    "from util_func import show_img"
   ]
  },
  {
   "cell_type": "markdown",
   "id": "822c5ad0",
   "metadata": {},
   "source": [
    "# Exercise 1\n"
   ]
  },
  {
   "cell_type": "markdown",
   "id": "d82b47b5",
   "metadata": {},
   "source": [
    "Create a random noise color and grayscale image. You can set your own width and height, but keep the total number of pixels of both images identical.\n"
   ]
  },
  {
   "cell_type": "code",
   "execution_count": 13,
   "id": "9a8fa9ba",
   "metadata": {},
   "outputs": [],
   "source": [
    "# random color image\n",
    "\n",
    "height = 450\n",
    "width = 750\n",
    "\n",
    "image = np.random.randint(0, high=256, size=(height, width, 3), dtype=np.uint8)\n",
    "\n",
    "# Convert to grayscale (1 channel)\n",
    "gray = cv.cvtColor(image, cv.COLOR_BGR2GRAY)\n",
    "\n",
    "# Merge channels to create color image (3 channels)\n",
    "gray_three = cv.merge([gray,gray,gray])\n",
    "\n",
    "cv.imshow(\"image\", image)\n",
    "cv.imshow(\"gray_three\", gray_three)\n",
    "cv.waitKey()\n",
    "\n",
    "cv.destroyAllWindows()"
   ]
  },
  {
   "cell_type": "markdown",
   "id": "e67857fb",
   "metadata": {},
   "source": [
    "# Exercise 2"
   ]
  },
  {
   "cell_type": "markdown",
   "id": "beb8332f",
   "metadata": {},
   "source": [
    "Convert the code chunk found under section Divide an image into smaller patches using cropping into a function with the following signature:\n",
    "crop_grid(img, num_horizontal_grid, num_vertical_grid, line_color)\n",
    "\n",
    "- img is the source image\n",
    "- num_horizontal_grid and num_vertical_grid are the number of patches along x and y axes.\n",
    "- line_color is the color of the grid line.\n",
    "- The output of the function should be image with grids"
   ]
  },
  {
   "cell_type": "code",
   "execution_count": 14,
   "id": "22e7c723",
   "metadata": {},
   "outputs": [],
   "source": [
    "def crop_grid(img, num_horizontal_grid, num_vertical_grid, line_color):\n",
    "    img_copy = img.copy()\n",
    "\n",
    "    height, width = img.shape[:2]\n",
    "\n",
    "\n",
    "    # M and N are basically number of pixels per patch\n",
    "    M, N = int(height / num_vertical_grid), int(width / num_horizontal_grid)\n",
    "\n",
    "    x1, y1 = 0, 0\n",
    "\n",
    "    for y in range(0, height, M):\n",
    "        for x in range(0, width, N):\n",
    "\n",
    "            y1 = y + M\n",
    "            x1 = x + N\n",
    "\n",
    "            if x1>=width and y1>=height:\n",
    "                x1 = width-1\n",
    "                y1 = height-1\n",
    "                tile = img[y:height, x:width]\n",
    "                cv.rectangle(img_copy, (x,y), (x1, y1), line_color, 1)\n",
    "                cv.imshow('tile', tile)\n",
    "\n",
    "            elif y1>=height:\n",
    "                y1 = height-1\n",
    "                cv.rectangle(img_copy, (x, y), (x1, y1), line_color, 1)\n",
    "\n",
    "            elif x1>=width:\n",
    "                x1 = width-1\n",
    "                cv.rectangle(img_copy, (x, y), (x1, y1), line_color, 1)\n",
    "\n",
    "            else:\n",
    "                cv.rectangle(img_copy, (x, y), (x1, y1), line_color, 1)\n",
    "\n",
    "    cv.imshow('patched image', img_copy)\n",
    "    cv.waitKey(0)\n",
    "    cv.destroyAllWindows()\n",
    "\n",
    "crop_grid(cv.imread('images/dog.jfif'), 3, 3, (0, 0, 255))"
   ]
  },
  {
   "cell_type": "markdown",
   "id": "f1d68747",
   "metadata": {},
   "source": [
    "# Exercise 3"
   ]
  },
  {
   "cell_type": "markdown",
   "id": "a60c547f",
   "metadata": {},
   "source": [
    "Display image sequences of smooth transition of two images with different values of \n",
    "α\n",
    ". Refer to code in section \"Image blending\". Use \"lena.jfif\" and \"coins.jfif\" as the base images."
   ]
  },
  {
   "cell_type": "code",
   "execution_count": 12,
   "id": "2f89b33c",
   "metadata": {},
   "outputs": [],
   "source": [
    "img = cv.imread(\"images/lena.jfif\")\n",
    "img2 = cv.imread(\"images/coins.jfif\")\n",
    "\n",
    "# Get the H&W of img\n",
    "h, w = img.shape[:2]\n",
    "\n",
    "# Resize img2 to be same with img\n",
    "img2 = cv.resize(img2, (w, h))\n",
    "\n",
    "# Define number of transition\n",
    "ttl_steps = 10\n",
    "\n",
    "# Loop through the alpha value and blend the image\n",
    "for step in range(ttl_steps + 1):\n",
    "    alpha = step / ttl_steps\n",
    "    beta = 1 - alpha\n",
    "    \n",
    "    blend_image = cv.addWeighted(img, alpha, img2, beta, 0)\n",
    "    \n",
    "    cv.imshow(\"Blended Image\", blend_image)\n",
    "    cv.waitKey(100)\n",
    "cv.waitKey(0)\n",
    "    \n",
    "cv.destroyAllWindows()"
   ]
  },
  {
   "cell_type": "markdown",
   "id": "8ef20d56",
   "metadata": {},
   "source": [
    "# Exercise 4"
   ]
  },
  {
   "cell_type": "markdown",
   "id": "d8cd09ff",
   "metadata": {},
   "source": [
    "Suppose you are a digital content creator and wish to share photo online. However, you wish to protect these images from being stolen or altered by others. Leverage your image processing knowledge to apply watermark on image \"travel_hd.jpg\". The example of resulting watermarked image are as shown in the following:"
   ]
  },
  {
   "cell_type": "code",
   "execution_count": 27,
   "id": "893bb595",
   "metadata": {},
   "outputs": [],
   "source": [
    "img = cv.imread(\"images/travel_hd.jpg\")\n",
    "\n",
    "# Read the watermark image\n",
    "wm = cv.imread(\"images/watermark.png\")\n",
    "\n",
    "#img = cv.resize(img, (2750, 3000))\n",
    "#wm = cv.resize(wm, (250, 250))\n",
    "\n",
    "# Get the height and width of the watermark image\n",
    "h_wm, w_wm = wm.shape[:2]\n",
    "\n",
    "# Get height and width of the image\n",
    "h_img, w_img = img.shape[:2]\n",
    "\n",
    "\n",
    "\n",
    "\n",
    "# Calculate the coordinates of the bottom left conrner for the watermark\n",
    "left_x = 0\n",
    "bottom_y = h_img - h_wm\n",
    "\n",
    "# Extract the ROI where the watermark will be placed\n",
    "roi = img[bottom_y:h_img, left_x:left_x + w_wm]\n",
    "\n",
    "# Blend watermark with the image\n",
    "result = cv.addWeighted(roi, 1, wm, 0.3, 0)\n",
    "\n",
    "# Place the watermarked ROI back into the original image\n",
    "img[bottom_y:h_img, left_x:left_x + w_wm] = result\n",
    "\n",
    "\n",
    "# Display the watermarked image\n",
    "cv.namedWindow(\"Watermarked Image\", cv.WINDOW_NORMAL)\n",
    "cv.imshow(\"Watermarked Image\", img)\n",
    "\n",
    "new_w_img = 550\n",
    "ratio = new_w_img / w_img\n",
    "new_h_img = int(h_img * ratio)\n",
    "\n",
    "\n",
    "cv.resizeWindow(\"Watermarked Image\", new_w_img, new_h_img)\n",
    "\n",
    "k = cv2.waitKey(0)\n",
    "\n",
    "if k == 115:   # press 's' key\n",
    "    cv.imwrite(\"travel_hd_save.jpg\", img)\n",
    "    \n",
    "cv.destroyAllWindows()\n"
   ]
  },
  {
   "cell_type": "code",
   "execution_count": null,
   "id": "2f4d2fcb",
   "metadata": {},
   "outputs": [],
   "source": []
  }
 ],
 "metadata": {
  "kernelspec": {
   "display_name": "Python 3 (ipykernel)",
   "language": "python",
   "name": "python3"
  },
  "language_info": {
   "codemirror_mode": {
    "name": "ipython",
    "version": 3
   },
   "file_extension": ".py",
   "mimetype": "text/x-python",
   "name": "python",
   "nbconvert_exporter": "python",
   "pygments_lexer": "ipython3",
   "version": "3.11.3"
  }
 },
 "nbformat": 4,
 "nbformat_minor": 5
}
